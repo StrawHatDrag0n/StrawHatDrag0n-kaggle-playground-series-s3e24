{
 "cells": [
  {
   "cell_type": "code",
   "execution_count": 2,
   "metadata": {},
   "outputs": [],
   "source": [
    "import os\n",
    "import numpy as np\n",
    "from pathlib import Path\n",
    "import pandas as pd\n",
    "import concurrent.futures\n",
    "from functools import partial\n",
    "import optuna\n",
    "import xgboost as xgb\n",
    "from sklearn.base import BaseEstimator, TransformerMixin\n",
    "from sklearn.pipeline import make_pipeline, make_union, FeatureUnion, Pipeline\n",
    "from sklearn.preprocessing import   StandardScaler,RobustScaler, OneHotEncoder, FunctionTransformer, PowerTransformer, QuantileTransformer, \\\n",
    "                                    PolynomialFeatures\n",
    "from sklearn.compose import ColumnTransformer\n",
    "from sklearn.feature_selection import SelectKBest, RFE, RFECV, SelectFromModel\n",
    "from sklearn.model_selection import cross_val_score\n",
    "from sklearn.ensemble import RandomForestClassifier"
   ]
  },
  {
   "cell_type": "code",
   "execution_count": 3,
   "metadata": {},
   "outputs": [],
   "source": [
    "class Config:\n",
    "    CONTEST_TAG = 'playground-series-s3e24'\n",
    "    ROOT_DIR = '../'\n",
    "    FILE_NAME = 'rf-v1'\n",
    "    \n",
    "    def __init__(self):\n",
    "        self.iskaggle = os.environ.get('KAGGLE_KERNEL_RUN_TYPE', '')\n",
    "        self.seed = 42\n",
    "        self.n_jobs = -1\n",
    "        self.splits = 5\n",
    "        self.target_col = 'smoking'\n",
    "        self.index_col = 'id'\n",
    "        self.optuna_trials = 30\n",
    "        if self.iskaggle:\n",
    "            self.train_path = Path(f'{self.ROOT_DIR}/input/{self.CONTEST_TAG}/train.csv')\n",
    "            self.test_path = Path(f'{self.ROOT_DIR}/input/{self.CONTEST_TAG}/test.csv')\n",
    "            self.submission_path = Path(f'{self.ROOT_DIR}/input/{self.CONTEST_TAG}/sample_submission.csv')\n",
    "        else:\n",
    "            self.train_path = Path(f'{self.ROOT_DIR}/input/{self.CONTEST_TAG}/train.csv')\n",
    "            self.test_path = Path(f'{self.ROOT_DIR}/input/{self.CONTEST_TAG}/test.csv')\n",
    "            self.submission_path = Path(f'{self.ROOT_DIR}/input/{self.CONTEST_TAG}/sample_submission.csv')\n",
    "\n",
    "        self.default_rf_params =  {   \n",
    "            'criterion': 'gini',\n",
    "            'n_jobs': -1, \n",
    "            'random_state': self.seed\n",
    "        }\n",
    "\n",
    "CFG = Config()"
   ]
  },
  {
   "cell_type": "code",
   "execution_count": 4,
   "metadata": {},
   "outputs": [],
   "source": [
    "cat_cols = ['Urine protein', 'hearing(left)', 'hearing(right)', 'dental caries']\n",
    "num_cols = ['age', 'height(cm)', 'weight(kg)', 'waist(cm)', 'eyesight(left)',\n",
    "       'eyesight(right)', 'systolic', 'relaxation', 'fasting blood sugar', 'Cholesterol', 'triglyceride',\n",
    "       'HDL', 'LDL', 'hemoglobin', 'serum creatinine', 'AST', 'ALT', 'Gtp']"
   ]
  },
  {
   "cell_type": "code",
   "execution_count": 5,
   "metadata": {},
   "outputs": [],
   "source": [
    "train_df = pd.read_csv(CFG.train_path, index_col=CFG.index_col)\n",
    "test_df = pd.read_csv(CFG.test_path, index_col=CFG.index_col)\n",
    "X_train  = train_df.drop(CFG.target_col, axis=1).iloc[:10000, :]\n",
    "y_train  = train_df[CFG.target_col].iloc[:10000]"
   ]
  },
  {
   "cell_type": "code",
   "execution_count": 6,
   "metadata": {},
   "outputs": [],
   "source": [
    "transformers = [\n",
    "    ('robust', RobustScaler()),\n",
    "    ('log', FunctionTransformer(func=np.log1p, feature_names_out=lambda x, features: [f'log_{feature}' for feature in features])), \n",
    "    ('power', PowerTransformer()), \n",
    "    ('quant', QuantileTransformer()), \n",
    "    ('poly', PolynomialFeatures())\n",
    "]\n",
    "union = FeatureUnion(transformer_list=transformers)"
   ]
  },
  {
   "cell_type": "code",
   "execution_count": 7,
   "metadata": {},
   "outputs": [],
   "source": [
    "numerical_transformer = make_pipeline(\n",
    "    union\n",
    ")\n",
    "\n",
    "categorical_transformer = make_pipeline(\n",
    "    OneHotEncoder()\n",
    ")\n",
    "\n",
    "preprocessor  = ColumnTransformer([\n",
    "    ('cat', categorical_transformer, cat_cols),\n",
    "    ('num', numerical_transformer, num_cols)\n",
    "], n_jobs=-1)\n",
    "\n",
    "pipeline = Pipeline(steps=[\n",
    "    ('preprocessor', preprocessor),\n",
    "    ('feature_selection', SelectFromModel(RandomForestClassifier(**CFG.default_rf_params))),\n",
    "    # ('classifier', RandomForestClassifier(**CFG.default_rf_params))\n",
    "])\n",
    "\n",
    "selected_X_train = pipeline.fit_transform(X_train, y_train)"
   ]
  },
  {
   "cell_type": "code",
   "execution_count": 8,
   "metadata": {},
   "outputs": [
    {
     "name": "stderr",
     "output_type": "stream",
     "text": [
      "[I 2023-11-08 07:57:23,439] A new study created in memory with name: no-name-3ab43d40-7203-4529-9cfc-88184386020c\n"
     ]
    },
    {
     "data": {
      "application/vnd.jupyter.widget-view+json": {
       "model_id": "7de3c37d3a35472eb3235626fb8a2d22",
       "version_major": 2,
       "version_minor": 0
      },
      "text/plain": [
       "  0%|          | 0/30 [00:00<?, ?it/s]"
      ]
     },
     "metadata": {},
     "output_type": "display_data"
    },
    {
     "name": "stdout",
     "output_type": "stream",
     "text": [
      "[I 2023-11-08 07:58:18,312] Trial 0 finished with value: 0.8452685970984716 and parameters: {'n_estimators': 100, 'max_depth': 31, 'min_samples_split': 142, 'min_samples_leaf': 56, 'criterion': 'gini', 'max_features': 'log2'}. Best is trial 0 with value: 0.8452685970984716.\n",
      "[I 2023-11-08 07:58:19,544] Trial 9 finished with value: 0.8440339490626758 and parameters: {'n_estimators': 100, 'max_depth': 26, 'min_samples_split': 62, 'min_samples_leaf': 2, 'criterion': 'gini', 'max_features': 1}. Best is trial 0 with value: 0.8452685970984716.\n",
      "[I 2023-11-08 07:59:06,819] Trial 10 finished with value: 0.8481988343602819 and parameters: {'n_estimators': 200, 'max_depth': 44, 'min_samples_split': 108, 'min_samples_leaf': 26, 'criterion': 'gini', 'max_features': 'sqrt'}. Best is trial 10 with value: 0.8481988343602819.\n",
      "[I 2023-11-08 07:59:11,047] Trial 11 finished with value: 0.8496583912922808 and parameters: {'n_estimators': 200, 'max_depth': 49, 'min_samples_split': 2, 'min_samples_leaf': 12, 'criterion': 'gini', 'max_features': 'log2'}. Best is trial 11 with value: 0.8496583912922808.\n",
      "[I 2023-11-08 07:59:41,233] Trial 6 finished with value: 0.8392754591437672 and parameters: {'n_estimators': 300, 'max_depth': 27, 'min_samples_split': 36, 'min_samples_leaf': 54, 'criterion': 'gini', 'max_features': 1}. Best is trial 11 with value: 0.8496583912922808.\n",
      "[I 2023-11-08 07:59:59,588] Trial 12 finished with value: 0.8485098057495749 and parameters: {'n_estimators': 200, 'max_depth': 14, 'min_samples_split': 96, 'min_samples_leaf': 7, 'criterion': 'gini', 'max_features': 'sqrt'}. Best is trial 11 with value: 0.8496583912922808.\n",
      "[I 2023-11-08 08:00:20,751] Trial 8 finished with value: 0.8462090077183884 and parameters: {'n_estimators': 400, 'max_depth': 38, 'min_samples_split': 41, 'min_samples_leaf': 59, 'criterion': 'gini', 'max_features': 'log2'}. Best is trial 11 with value: 0.8496583912922808.\n",
      "[I 2023-11-08 08:00:22,332] Trial 2 finished with value: 0.846988319734572 and parameters: {'n_estimators': 400, 'max_depth': 10, 'min_samples_split': 144, 'min_samples_leaf': 10, 'criterion': 'gini', 'max_features': 'log2'}. Best is trial 11 with value: 0.8496583912922808.\n",
      "[I 2023-11-08 08:00:25,364] Trial 1 finished with value: 0.8478701326625157 and parameters: {'n_estimators': 400, 'max_depth': 10, 'min_samples_split': 124, 'min_samples_leaf': 22, 'criterion': 'gini', 'max_features': 'sqrt'}. Best is trial 11 with value: 0.8496583912922808.\n",
      "[I 2023-11-08 08:01:34,971] Trial 5 finished with value: 0.8407667072584368 and parameters: {'n_estimators': 600, 'max_depth': 13, 'min_samples_split': 46, 'min_samples_leaf': 39, 'criterion': 'gini', 'max_features': 1}. Best is trial 11 with value: 0.8496583912922808.\n",
      "[I 2023-11-08 08:01:54,869] Trial 18 finished with value: 0.846681016155743 and parameters: {'n_estimators': 200, 'max_depth': 20, 'min_samples_split': 138, 'min_samples_leaf': 52, 'criterion': 'gini', 'max_features': 'sqrt'}. Best is trial 11 with value: 0.8496583912922808.\n",
      "[I 2023-11-08 08:02:25,815] Trial 15 finished with value: 0.843743116302714 and parameters: {'n_estimators': 400, 'max_depth': 30, 'min_samples_split': 35, 'min_samples_leaf': 20, 'criterion': 'gini', 'max_features': 1}. Best is trial 11 with value: 0.8496583912922808.\n",
      "[I 2023-11-08 08:02:36,281] Trial 3 finished with value: 0.8462998037629665 and parameters: {'n_estimators': 700, 'max_depth': 19, 'min_samples_split': 23, 'min_samples_leaf': 55, 'criterion': 'gini', 'max_features': 'log2'}. Best is trial 11 with value: 0.8496583912922808.\n",
      "[I 2023-11-08 08:02:38,839] Trial 4 finished with value: 0.848732694145508 and parameters: {'n_estimators': 700, 'max_depth': 33, 'min_samples_split': 79, 'min_samples_leaf': 15, 'criterion': 'gini', 'max_features': 'log2'}. Best is trial 11 with value: 0.8496583912922808.\n",
      "[I 2023-11-08 08:02:43,694] Trial 13 finished with value: 0.8467203608979652 and parameters: {'n_estimators': 600, 'max_depth': 20, 'min_samples_split': 144, 'min_samples_leaf': 37, 'criterion': 'gini', 'max_features': 'log2'}. Best is trial 11 with value: 0.8496583912922808.\n",
      "[I 2023-11-08 08:02:52,228] Trial 7 finished with value: 0.8454131793603021 and parameters: {'n_estimators': 700, 'max_depth': 18, 'min_samples_split': 14, 'min_samples_leaf': 11, 'criterion': 'gini', 'max_features': 1}. Best is trial 11 with value: 0.8496583912922808.\n",
      "[I 2023-11-08 08:02:52,461] Trial 16 finished with value: 0.8490281769406304 and parameters: {'n_estimators': 400, 'max_depth': 28, 'min_samples_split': 62, 'min_samples_leaf': 21, 'criterion': 'gini', 'max_features': 'log2'}. Best is trial 11 with value: 0.8496583912922808.\n",
      "[I 2023-11-08 08:02:55,347] Trial 19 finished with value: 0.8498654479941916 and parameters: {'n_estimators': 300, 'max_depth': 19, 'min_samples_split': 34, 'min_samples_leaf': 16, 'criterion': 'gini', 'max_features': 'log2'}. Best is trial 19 with value: 0.8498654479941916.\n",
      "[I 2023-11-08 08:02:58,394] Trial 20 finished with value: 0.84874184956418 and parameters: {'n_estimators': 300, 'max_depth': 10, 'min_samples_split': 35, 'min_samples_leaf': 10, 'criterion': 'gini', 'max_features': 'log2'}. Best is trial 19 with value: 0.8498654479941916.\n",
      "[I 2023-11-08 08:03:29,767] Trial 14 finished with value: 0.8400391112039541 and parameters: {'n_estimators': 600, 'max_depth': 12, 'min_samples_split': 121, 'min_samples_leaf': 38, 'criterion': 'gini', 'max_features': 1}. Best is trial 19 with value: 0.8498654479941916.\n",
      "[I 2023-11-08 08:04:16,113] Trial 24 finished with value: 0.848849212267367 and parameters: {'n_estimators': 200, 'max_depth': 49, 'min_samples_split': 90, 'min_samples_leaf': 11, 'criterion': 'gini', 'max_features': 'sqrt'}. Best is trial 19 with value: 0.8498654479941916.\n",
      "[I 2023-11-08 08:04:24,162] Trial 17 finished with value: 0.8468654437491109 and parameters: {'n_estimators': 600, 'max_depth': 21, 'min_samples_split': 2, 'min_samples_leaf': 55, 'criterion': 'gini', 'max_features': 'sqrt'}. Best is trial 19 with value: 0.8498654479941916.\n",
      "[I 2023-11-08 08:05:12,055] Trial 29 finished with value: 0.8488778859050216 and parameters: {'n_estimators': 300, 'max_depth': 48, 'min_samples_split': 5, 'min_samples_leaf': 2, 'criterion': 'gini', 'max_features': 'log2'}. Best is trial 19 with value: 0.8498654479941916.\n",
      "[I 2023-11-08 08:05:48,517] Trial 27 finished with value: 0.8487995810449052 and parameters: {'n_estimators': 500, 'max_depth': 48, 'min_samples_split': 83, 'min_samples_leaf': 16, 'criterion': 'gini', 'max_features': 'log2'}. Best is trial 19 with value: 0.8498654479941916.\n",
      "[I 2023-11-08 08:05:48,800] Trial 28 finished with value: 0.8485827013493775 and parameters: {'n_estimators': 500, 'max_depth': 50, 'min_samples_split': 6, 'min_samples_leaf': 32, 'criterion': 'gini', 'max_features': 'log2'}. Best is trial 19 with value: 0.8498654479941916.\n",
      "[I 2023-11-08 08:06:01,119] Trial 21 finished with value: 0.8496326060604797 and parameters: {'n_estimators': 700, 'max_depth': 50, 'min_samples_split': 7, 'min_samples_leaf': 16, 'criterion': 'gini', 'max_features': 'log2'}. Best is trial 19 with value: 0.8498654479941916.\n",
      "[I 2023-11-08 08:06:02,634] Trial 22 finished with value: 0.8490784710825661 and parameters: {'n_estimators': 700, 'max_depth': 50, 'min_samples_split': 93, 'min_samples_leaf': 14, 'criterion': 'gini', 'max_features': 'sqrt'}. Best is trial 19 with value: 0.8498654479941916.\n",
      "[I 2023-11-08 08:06:02,652] Trial 25 finished with value: 0.8502000855008014 and parameters: {'n_estimators': 600, 'max_depth': 49, 'min_samples_split': 6, 'min_samples_leaf': 14, 'criterion': 'gini', 'max_features': 'log2'}. Best is trial 25 with value: 0.8502000855008014.\n",
      "[I 2023-11-08 08:06:02,782] Trial 23 finished with value: 0.8502739029894031 and parameters: {'n_estimators': 600, 'max_depth': 49, 'min_samples_split': 9, 'min_samples_leaf': 9, 'criterion': 'gini', 'max_features': 'sqrt'}. Best is trial 23 with value: 0.8502739029894031.\n",
      "[I 2023-11-08 08:06:02,848] Trial 26 finished with value: 0.8502000855008014 and parameters: {'n_estimators': 600, 'max_depth': 50, 'min_samples_split': 6, 'min_samples_leaf': 14, 'criterion': 'gini', 'max_features': 'log2'}. Best is trial 23 with value: 0.8502739029894031.\n"
     ]
    }
   ],
   "source": [
    "def objective(trial: optuna.Trial, X, y):\n",
    "    optuna_rf_params = {\n",
    "        'n_estimators': trial.suggest_int('n_estimators', 100, 700, step=100),\n",
    "        'max_depth': trial.suggest_int('max_depth', 4, 50),\n",
    "        'min_samples_split': trial.suggest_int('min_samples_split', 2, 150),\n",
    "        'min_samples_leaf': trial.suggest_int('min_samples_leaf', 1, 60),\n",
    "        'criterion': trial.suggest_categorical(\"criterion\", [\"gini\"]),\n",
    "        'max_features': trial.suggest_categorical('max_features', [\"sqrt\", \"log2\", 1]),\n",
    "    }\n",
    "    \n",
    "    rf_params = {**CFG.default_rf_params, **optuna_rf_params}\n",
    "    pipeline = RandomForestClassifier(**rf_params)\n",
    "    # pipeline.named_steps['classifier'].set_params(**rf_params)\n",
    "    scores = cross_val_score(pipeline, X, y, cv=CFG.splits, scoring='roc_auc')\n",
    "    return scores.mean()\n",
    "\n",
    "study = optuna.create_study(direction='maximize')\n",
    "study.optimize(partial(objective, X=selected_X_train, y=y_train), n_trials=CFG.optuna_trials, show_progress_bar=True, n_jobs=-1)"
   ]
  },
  {
   "cell_type": "code",
   "execution_count": null,
   "metadata": {},
   "outputs": [],
   "source": [
    "rf_params = {**CFG.default_rf_params, **study.best_params}\n",
    "pipeline.named_steps['classifier'].set_params(**rf_params)\n",
    "pipeline.fit(X_train, y_train)"
   ]
  },
  {
   "cell_type": "code",
   "execution_count": null,
   "metadata": {},
   "outputs": [],
   "source": [
    "predictions = pipeline.predict_proba(test_df)[:, 1]\n",
    "sample_submission = pd.read_csv(CFG.submission_path, index_col=CFG.index_col)\n",
    "sample_submission[CFG.target_col] = predictions\n",
    "sample_submission.to_csv(f'{CFG.FILE_NAME}_submission.csv')"
   ]
  }
 ],
 "metadata": {
  "kernelspec": {
   "display_name": "kaggle",
   "language": "python",
   "name": "python3"
  },
  "language_info": {
   "codemirror_mode": {
    "name": "ipython",
    "version": 3
   },
   "file_extension": ".py",
   "mimetype": "text/x-python",
   "name": "python",
   "nbconvert_exporter": "python",
   "pygments_lexer": "ipython3",
   "version": "3.11.6"
  }
 },
 "nbformat": 4,
 "nbformat_minor": 2
}
