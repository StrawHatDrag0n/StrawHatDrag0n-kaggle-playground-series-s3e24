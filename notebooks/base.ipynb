{
 "cells": [
  {
   "cell_type": "code",
   "execution_count": 2,
   "metadata": {},
   "outputs": [],
   "source": [
    "import os\n",
    "import numpy as np\n",
    "from pathlib import Path\n",
    "import pandas as pd\n",
    "import optuna\n",
    "import xgboost as xgb\n",
    "from sklearn.base import BaseEstimator, TransformerMixin\n",
    "from sklearn.pipeline import make_pipeline, make_union, FeatureUnion\n",
    "from sklearn.preprocessing import   StandardScaler,RobustScaler, OneHotEncoder, FunctionTransformer, PowerTransformer, QuantileTransformer, \\\n",
    "                                    PolynomialFeatures\n",
    "from sklearn.compose import ColumnTransformer\n",
    "from sklearn.feature_selection import SelectKBest, RFE, RFECV\n",
    "from sklearn.model_selection import cross_val_score\n",
    "from sklearn.ensemble import RandomForestClassifier"
   ]
  },
  {
   "cell_type": "code",
   "execution_count": 21,
   "metadata": {},
   "outputs": [],
   "source": [
    "class Config:\n",
    "    CONTEST_TAG = 'playground-series-s3e24'\n",
    "    def __init__(self):\n",
    "        self.iskaggle = os.environ.get('KAGGLE_KERNEL_RUN_TYPE', '')\n",
    "        self.seed = 42\n",
    "        self.n_jobs = -1\n",
    "        self.splits = 5\n",
    "        self.target_col = 'smoking'\n",
    "        self.index_col = 'id'\n",
    "        self.optuna_trials = 30\n",
    "        if self.iskaggle:\n",
    "            self.train_path = Path(f'/kaggle/input/{self.CONTEST_TAG}/train.csv')\n",
    "            self.test_path = Path(f'/kaggle/input/{self.CONTEST_TAG}/test.csv')\n",
    "            self.submission_path = Path(f'/kaggle/input/{self.CONTEST_TAG}/sample_submission.csv')\n",
    "        else:\n",
    "            self.train_path = Path(f'./input/{self.CONTEST_TAG}/train.csv')\n",
    "            self.test_path = Path(f'./input/{self.CONTEST_TAG}/test.csv')\n",
    "            self.submission_path = Path(f'./input/{self.CONTEST_TAG}/sample_submission.csv')\n",
    "\n",
    "        self.default_rf_params =  {   \n",
    "            'criterion': 'gini',\n",
    "            'n_jobs': -1, \n",
    "            'random_state': self.seed\n",
    "        }\n",
    "\n",
    "CFG = Config()"
   ]
  },
  {
   "cell_type": "code",
   "execution_count": 15,
   "metadata": {},
   "outputs": [],
   "source": [
    "cat_cols = ['Urine protein', 'hearing(left)', 'hearing(right)', 'dental caries']\n",
    "num_cols = ['age', 'height(cm)', 'weight(kg)', 'waist(cm)', 'eyesight(left)',\n",
    "       'eyesight(right)', 'systolic', 'relaxation', 'fasting blood sugar', 'Cholesterol', 'triglyceride',\n",
    "       'HDL', 'LDL', 'hemoglobin', 'serum creatinine', 'AST', 'ALT', 'Gtp']"
   ]
  },
  {
   "cell_type": "code",
   "execution_count": null,
   "metadata": {},
   "outputs": [],
   "source": [
    "train_df = pd.read_csv(CFG.train_path, index_col=CFG.index_col)\n",
    "test_df = pd.read_csv(CFG.test_path, index_col=CFG.index_col)\n",
    "X_train  = train_df.drop(CFG.target_col, axis=1)\n",
    "y_train  = train_df[CFG.target_col]"
   ]
  }
 ],
 "metadata": {
  "kernelspec": {
   "display_name": "kaggle",
   "language": "python",
   "name": "python3"
  },
  "language_info": {
   "codemirror_mode": {
    "name": "ipython",
    "version": 3
   },
   "file_extension": ".py",
   "mimetype": "text/x-python",
   "name": "python",
   "nbconvert_exporter": "python",
   "pygments_lexer": "ipython3",
   "version": "3.11.6"
  }
 },
 "nbformat": 4,
 "nbformat_minor": 2
}
